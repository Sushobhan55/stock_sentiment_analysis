{
 "cells": [
  {
   "cell_type": "code",
   "execution_count": 3,
   "id": "348092f7",
   "metadata": {},
   "outputs": [],
   "source": [
    "import pandas as pd\n",
    "\n",
    "from sklearn.naive_bayes import MultinomialNB\n",
    "from sklearn.feature_extraction.text import CountVectorizer\n",
    "from sklearn.feature_extraction.text import TfidfVectorizer\n",
    "from sklearn.model_selection import train_test_split\n",
    "from sklearn.metrics import plot_confusion_matrix\n",
    "from sklearn.metrics import classification_report\n",
    "from sklearn import metrics\n",
    "from sklearn.metrics import classification_report"
   ]
  },
  {
   "cell_type": "code",
   "execution_count": 4,
   "id": "410096e6",
   "metadata": {
    "scrolled": false
   },
   "outputs": [
    {
     "data": {
      "text/html": [
       "<div>\n",
       "<style scoped>\n",
       "    .dataframe tbody tr th:only-of-type {\n",
       "        vertical-align: middle;\n",
       "    }\n",
       "\n",
       "    .dataframe tbody tr th {\n",
       "        vertical-align: top;\n",
       "    }\n",
       "\n",
       "    .dataframe thead th {\n",
       "        text-align: right;\n",
       "    }\n",
       "</style>\n",
       "<table border=\"1\" class=\"dataframe\">\n",
       "  <thead>\n",
       "    <tr style=\"text-align: right;\">\n",
       "      <th></th>\n",
       "      <th>title</th>\n",
       "      <th>date</th>\n",
       "      <th>stock</th>\n",
       "      <th>movement</th>\n",
       "    </tr>\n",
       "  </thead>\n",
       "  <tbody>\n",
       "    <tr>\n",
       "      <th>0</th>\n",
       "      <td>stock hit week high friday</td>\n",
       "      <td>2020-06-05</td>\n",
       "      <td>A</td>\n",
       "      <td>Down</td>\n",
       "    </tr>\n",
       "    <tr>\n",
       "      <th>1</th>\n",
       "      <td>stock hit week high wednesday</td>\n",
       "      <td>2020-06-03</td>\n",
       "      <td>A</td>\n",
       "      <td>Up</td>\n",
       "    </tr>\n",
       "    <tr>\n",
       "      <th>2</th>\n",
       "      <td>biggest mover friday</td>\n",
       "      <td>2020-05-26</td>\n",
       "      <td>A</td>\n",
       "      <td>Up</td>\n",
       "    </tr>\n",
       "    <tr>\n",
       "      <th>3</th>\n",
       "      <td>stock move friday midday session</td>\n",
       "      <td>2020-05-22</td>\n",
       "      <td>A</td>\n",
       "      <td>Up</td>\n",
       "    </tr>\n",
       "    <tr>\n",
       "      <th>4</th>\n",
       "      <td>b secur maintain neutral agil technolog rais p...</td>\n",
       "      <td>2020-05-22</td>\n",
       "      <td>A</td>\n",
       "      <td>Up</td>\n",
       "    </tr>\n",
       "    <tr>\n",
       "      <th>...</th>\n",
       "      <td>...</td>\n",
       "      <td>...</td>\n",
       "      <td>...</td>\n",
       "      <td>...</td>\n",
       "    </tr>\n",
       "    <tr>\n",
       "      <th>330533</th>\n",
       "      <td>hilliard lyon initi coverag zoeti neutral</td>\n",
       "      <td>2013-03-12</td>\n",
       "      <td>ZTS</td>\n",
       "      <td>Down</td>\n",
       "    </tr>\n",
       "    <tr>\n",
       "      <th>330534</th>\n",
       "      <td>hilliard lyon initi coverag zoeti neutral</td>\n",
       "      <td>2013-03-12</td>\n",
       "      <td>ZTS</td>\n",
       "      <td>Down</td>\n",
       "    </tr>\n",
       "    <tr>\n",
       "      <th>330535</th>\n",
       "      <td>updat bmo capit market initi zoeti underperfor...</td>\n",
       "      <td>2013-03-08</td>\n",
       "      <td>ZTS</td>\n",
       "      <td>Down</td>\n",
       "    </tr>\n",
       "    <tr>\n",
       "      <th>330536</th>\n",
       "      <td>bmo capit initi coverag zoeti underperform ann...</td>\n",
       "      <td>2013-03-08</td>\n",
       "      <td>ZTS</td>\n",
       "      <td>Down</td>\n",
       "    </tr>\n",
       "    <tr>\n",
       "      <th>330537</th>\n",
       "      <td>bmo capit initi coverag zoeti underperform ann...</td>\n",
       "      <td>2013-03-07</td>\n",
       "      <td>ZTS</td>\n",
       "      <td>Up</td>\n",
       "    </tr>\n",
       "  </tbody>\n",
       "</table>\n",
       "<p>330538 rows × 4 columns</p>\n",
       "</div>"
      ],
      "text/plain": [
       "                                                    title        date stock  \\\n",
       "0                              stock hit week high friday  2020-06-05     A   \n",
       "1                           stock hit week high wednesday  2020-06-03     A   \n",
       "2                                    biggest mover friday  2020-05-26     A   \n",
       "3                        stock move friday midday session  2020-05-22     A   \n",
       "4       b secur maintain neutral agil technolog rais p...  2020-05-22     A   \n",
       "...                                                   ...         ...   ...   \n",
       "330533          hilliard lyon initi coverag zoeti neutral  2013-03-12   ZTS   \n",
       "330534          hilliard lyon initi coverag zoeti neutral  2013-03-12   ZTS   \n",
       "330535  updat bmo capit market initi zoeti underperfor...  2013-03-08   ZTS   \n",
       "330536  bmo capit initi coverag zoeti underperform ann...  2013-03-08   ZTS   \n",
       "330537  bmo capit initi coverag zoeti underperform ann...  2013-03-07   ZTS   \n",
       "\n",
       "       movement  \n",
       "0          Down  \n",
       "1            Up  \n",
       "2            Up  \n",
       "3            Up  \n",
       "4            Up  \n",
       "...         ...  \n",
       "330533     Down  \n",
       "330534     Down  \n",
       "330535     Down  \n",
       "330536     Down  \n",
       "330537       Up  \n",
       "\n",
       "[330538 rows x 4 columns]"
      ]
     },
     "execution_count": 4,
     "metadata": {},
     "output_type": "execute_result"
    }
   ],
   "source": [
    "df = pd.read_csv('data/up_down_final')\n",
    "df"
   ]
  },
  {
   "cell_type": "code",
   "execution_count": 7,
   "id": "8bb5f2d1",
   "metadata": {},
   "outputs": [],
   "source": [
    "X = df['title'].fillna(\" \")\n",
    "y = df['movement'].values\n",
    "vectorizer = TfidfVectorizer()\n",
    "vectorizer.fit(X)\n",
    "X = vectorizer.transform(X)"
   ]
  },
  {
   "cell_type": "code",
   "execution_count": 8,
   "id": "bb7996cd",
   "metadata": {},
   "outputs": [],
   "source": [
    "X_train, X_test, y_train, y_test = train_test_split(X, y, test_size = 0.2, random_state = 42)"
   ]
  },
  {
   "cell_type": "code",
   "execution_count": 12,
   "id": "013e425e",
   "metadata": {},
   "outputs": [
    {
     "name": "stdout",
     "output_type": "stream",
     "text": [
      "Model Accuracy: 0.588779\n"
     ]
    }
   ],
   "source": [
    "model = MultinomialNB(alpha=.05)\n",
    "model.fit(X_train, y_train)\n",
    "y_pred = model.predict(X_test)\n",
    "\n",
    "\n",
    "# Make predicted probabilites of our testing data\n",
    "y_pred_proba = model.predict_proba(X_test)\n",
    "\n",
    "# Evaluate our model\n",
    "accuracy =  model.score(X_test, y_test)\n",
    "\n",
    "# Print our evaluation metrics\n",
    "print(\"Model Accuracy: %f\" % accuracy)"
   ]
  },
  {
   "cell_type": "code",
   "execution_count": 17,
   "id": "a45fd399",
   "metadata": {},
   "outputs": [],
   "source": []
  },
  {
   "cell_type": "code",
   "execution_count": null,
   "id": "ea7352c7",
   "metadata": {},
   "outputs": [],
   "source": []
  },
  {
   "cell_type": "code",
   "execution_count": null,
   "id": "1c80c31f",
   "metadata": {},
   "outputs": [],
   "source": []
  },
  {
   "cell_type": "code",
   "execution_count": null,
   "id": "aeb987de",
   "metadata": {},
   "outputs": [],
   "source": []
  }
 ],
 "metadata": {
  "kernelspec": {
   "display_name": "Python 3",
   "language": "python",
   "name": "python3"
  },
  "language_info": {
   "codemirror_mode": {
    "name": "ipython",
    "version": 3
   },
   "file_extension": ".py",
   "mimetype": "text/x-python",
   "name": "python",
   "nbconvert_exporter": "python",
   "pygments_lexer": "ipython3",
   "version": "3.8.8"
  }
 },
 "nbformat": 4,
 "nbformat_minor": 5
}
