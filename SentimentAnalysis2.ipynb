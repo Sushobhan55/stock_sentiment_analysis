{
 "cells": [
  {
   "cell_type": "code",
   "execution_count": 5,
   "id": "348092f7",
   "metadata": {},
   "outputs": [],
   "source": [
    "import pandas as pd\n",
    "\n",
    "# NLTK is our Natural-Language-Took-Kit\n",
    "import nltk\n",
    "from nltk.corpus import stopwords\n",
    "from nltk import word_tokenize\n",
    "from nltk.stem import PorterStemmer\n",
    "from nltk.stem import WordNetLemmatizer\n",
    "from nltk.corpus import wordnet\n",
    "\n",
    "# Libraries for helping us with strings\n",
    "import string\n",
    "# Regular Expression Library\n",
    "import re\n",
    "\n",
    "stopwords = stopwords.words('english')\n",
    "\n",
    "from sklearn.naive_bayes import MultinomialNB\n",
    "from sklearn.feature_extraction.text import CountVectorizer\n",
    "from sklearn.feature_extraction.text import TfidfVectorizer\n",
    "from sklearn.model_selection import train_test_split\n",
    "from sklearn.metrics import plot_confusion_matrix\n",
    "from sklearn.metrics import classification_report\n",
    "from sklearn import metrics\n",
    "from sklearn.metrics import classification_report"
   ]
  },
  {
   "cell_type": "code",
   "execution_count": 4,
   "id": "410096e6",
   "metadata": {},
   "outputs": [
    {
     "data": {
      "text/html": [
       "<div>\n",
       "<style scoped>\n",
       "    .dataframe tbody tr th:only-of-type {\n",
       "        vertical-align: middle;\n",
       "    }\n",
       "\n",
       "    .dataframe tbody tr th {\n",
       "        vertical-align: top;\n",
       "    }\n",
       "\n",
       "    .dataframe thead th {\n",
       "        text-align: right;\n",
       "    }\n",
       "</style>\n",
       "<table border=\"1\" class=\"dataframe\">\n",
       "  <thead>\n",
       "    <tr style=\"text-align: right;\">\n",
       "      <th></th>\n",
       "      <th>title</th>\n",
       "      <th>date</th>\n",
       "      <th>stock</th>\n",
       "      <th>is_up</th>\n",
       "      <th>clean_title</th>\n",
       "    </tr>\n",
       "  </thead>\n",
       "  <tbody>\n",
       "    <tr>\n",
       "      <th>0</th>\n",
       "      <td>Stocks That Hit 52-Week Highs On Friday</td>\n",
       "      <td>2020-06-05</td>\n",
       "      <td>A</td>\n",
       "      <td>0</td>\n",
       "      <td>stocks hit week highs friday</td>\n",
       "    </tr>\n",
       "    <tr>\n",
       "      <th>1</th>\n",
       "      <td>Stocks That Hit 52-Week Highs On Wednesday</td>\n",
       "      <td>2020-06-03</td>\n",
       "      <td>A</td>\n",
       "      <td>1</td>\n",
       "      <td>stocks hit week highs wednesday</td>\n",
       "    </tr>\n",
       "    <tr>\n",
       "      <th>2</th>\n",
       "      <td>71 Biggest Movers From Friday</td>\n",
       "      <td>2020-05-26</td>\n",
       "      <td>A</td>\n",
       "      <td>1</td>\n",
       "      <td>biggest movers friday</td>\n",
       "    </tr>\n",
       "    <tr>\n",
       "      <th>3</th>\n",
       "      <td>46 Stocks Moving In Friday's Mid-Day Session</td>\n",
       "      <td>2020-05-22</td>\n",
       "      <td>A</td>\n",
       "      <td>1</td>\n",
       "      <td>stocks moving fridays midday session</td>\n",
       "    </tr>\n",
       "    <tr>\n",
       "      <th>4</th>\n",
       "      <td>B of A Securities Maintains Neutral on Agilent...</td>\n",
       "      <td>2020-05-22</td>\n",
       "      <td>A</td>\n",
       "      <td>1</td>\n",
       "      <td>b securities maintains neutral agilent technol...</td>\n",
       "    </tr>\n",
       "    <tr>\n",
       "      <th>...</th>\n",
       "      <td>...</td>\n",
       "      <td>...</td>\n",
       "      <td>...</td>\n",
       "      <td>...</td>\n",
       "      <td>...</td>\n",
       "    </tr>\n",
       "    <tr>\n",
       "      <th>206934</th>\n",
       "      <td>Bank of America Initiates Coverage on Zoetis a...</td>\n",
       "      <td>2013-03-13</td>\n",
       "      <td>ZTS</td>\n",
       "      <td>1</td>\n",
       "      <td>bank america initiates coverage zoetis neutral...</td>\n",
       "    </tr>\n",
       "    <tr>\n",
       "      <th>206935</th>\n",
       "      <td>UPDATE: Hilliard Lyons Initiates Zoetis at Neu...</td>\n",
       "      <td>2013-03-12</td>\n",
       "      <td>ZTS</td>\n",
       "      <td>0</td>\n",
       "      <td>update hilliard lyons initiates zoetis neutral...</td>\n",
       "    </tr>\n",
       "    <tr>\n",
       "      <th>206936</th>\n",
       "      <td>Hilliard Lyons Initiates Coverage on Zoetis at...</td>\n",
       "      <td>2013-03-12</td>\n",
       "      <td>ZTS</td>\n",
       "      <td>0</td>\n",
       "      <td>hilliard lyons initiates coverage zoetis neutral</td>\n",
       "    </tr>\n",
       "    <tr>\n",
       "      <th>206937</th>\n",
       "      <td>UPDATE: BMO Capital Markets Initiates Zoetis a...</td>\n",
       "      <td>2013-03-08</td>\n",
       "      <td>ZTS</td>\n",
       "      <td>0</td>\n",
       "      <td>update bmo capital markets initiates zoetis un...</td>\n",
       "    </tr>\n",
       "    <tr>\n",
       "      <th>206938</th>\n",
       "      <td>BMO Capital Initiates Coverage on Zoetis at Un...</td>\n",
       "      <td>2013-03-08</td>\n",
       "      <td>ZTS</td>\n",
       "      <td>0</td>\n",
       "      <td>bmo capital initiates coverage zoetis underper...</td>\n",
       "    </tr>\n",
       "  </tbody>\n",
       "</table>\n",
       "<p>206939 rows × 5 columns</p>\n",
       "</div>"
      ],
      "text/plain": [
       "                                                    title        date stock  \\\n",
       "0                 Stocks That Hit 52-Week Highs On Friday  2020-06-05     A   \n",
       "1              Stocks That Hit 52-Week Highs On Wednesday  2020-06-03     A   \n",
       "2                           71 Biggest Movers From Friday  2020-05-26     A   \n",
       "3            46 Stocks Moving In Friday's Mid-Day Session  2020-05-22     A   \n",
       "4       B of A Securities Maintains Neutral on Agilent...  2020-05-22     A   \n",
       "...                                                   ...         ...   ...   \n",
       "206934  Bank of America Initiates Coverage on Zoetis a...  2013-03-13   ZTS   \n",
       "206935  UPDATE: Hilliard Lyons Initiates Zoetis at Neu...  2013-03-12   ZTS   \n",
       "206936  Hilliard Lyons Initiates Coverage on Zoetis at...  2013-03-12   ZTS   \n",
       "206937  UPDATE: BMO Capital Markets Initiates Zoetis a...  2013-03-08   ZTS   \n",
       "206938  BMO Capital Initiates Coverage on Zoetis at Un...  2013-03-08   ZTS   \n",
       "\n",
       "        is_up                                        clean_title  \n",
       "0           0                       stocks hit week highs friday  \n",
       "1           1                    stocks hit week highs wednesday  \n",
       "2           1                              biggest movers friday  \n",
       "3           1               stocks moving fridays midday session  \n",
       "4           1  b securities maintains neutral agilent technol...  \n",
       "...       ...                                                ...  \n",
       "206934      1  bank america initiates coverage zoetis neutral...  \n",
       "206935      0  update hilliard lyons initiates zoetis neutral...  \n",
       "206936      0   hilliard lyons initiates coverage zoetis neutral  \n",
       "206937      0  update bmo capital markets initiates zoetis un...  \n",
       "206938      0  bmo capital initiates coverage zoetis underper...  \n",
       "\n",
       "[206939 rows x 5 columns]"
      ]
     },
     "execution_count": 4,
     "metadata": {},
     "output_type": "execute_result"
    }
   ],
   "source": [
    "df = pd.read_csv('data/is_up_cleaned.csv')\n",
    "df"
   ]
  },
  {
   "cell_type": "code",
   "execution_count": 7,
   "id": "0d509beb",
   "metadata": {},
   "outputs": [
    {
     "data": {
      "text/plain": [
       "(206939, 52504)"
      ]
     },
     "execution_count": 7,
     "metadata": {},
     "output_type": "execute_result"
    }
   ],
   "source": [
    "X = df['clean_title'].values\n",
    "y = df['is_up'].values\n",
    "vectorizer = TfidfVectorizer()\n",
    "vectorizer.fit(X)\n",
    "X = vectorizer.transform(X)"
   ]
  },
  {
   "cell_type": "code",
   "execution_count": 12,
   "id": "bb7996cd",
   "metadata": {},
   "outputs": [],
   "source": [
    "X_train, X_test, y_train, y_test = train_test_split(X, y, test_size = 0.2, random_state = 42)"
   ]
  },
  {
   "cell_type": "code",
   "execution_count": 13,
   "id": "013e425e",
   "metadata": {},
   "outputs": [
    {
     "name": "stdout",
     "output_type": "stream",
     "text": [
      "Model Accuracy: 0.581135\n"
     ]
    }
   ],
   "source": [
    "model = MultinomialNB(alpha=.05)\n",
    "model.fit(X_train, y_train)\n",
    "y_pred = model.predict(X_test)\n",
    "\n",
    "\n",
    "# Make predicted probabilites of our testing data\n",
    "y_pred_proba = model.predict_proba(X_test)\n",
    "\n",
    "# Evaluate our model\n",
    "accuracy =  model.score(X_test, y_test)\n",
    "\n",
    "# Print our evaluation metrics\n",
    "print(\"Model Accuracy: %f\" % accuracy)"
   ]
  },
  {
   "cell_type": "code",
   "execution_count": 17,
   "id": "a45fd399",
   "metadata": {},
   "outputs": [],
   "source": []
  },
  {
   "cell_type": "code",
   "execution_count": null,
   "id": "ea7352c7",
   "metadata": {},
   "outputs": [],
   "source": []
  },
  {
   "cell_type": "code",
   "execution_count": null,
   "id": "1c80c31f",
   "metadata": {},
   "outputs": [],
   "source": []
  },
  {
   "cell_type": "code",
   "execution_count": null,
   "id": "aeb987de",
   "metadata": {},
   "outputs": [],
   "source": []
  }
 ],
 "metadata": {
  "kernelspec": {
   "display_name": "Python 3",
   "language": "python",
   "name": "python3"
  },
  "language_info": {
   "codemirror_mode": {
    "name": "ipython",
    "version": 3
   },
   "file_extension": ".py",
   "mimetype": "text/x-python",
   "name": "python",
   "nbconvert_exporter": "python",
   "pygments_lexer": "ipython3",
   "version": "3.8.3"
  }
 },
 "nbformat": 4,
 "nbformat_minor": 5
}
